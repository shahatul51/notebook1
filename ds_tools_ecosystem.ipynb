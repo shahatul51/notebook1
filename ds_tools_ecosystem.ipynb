{
 "cells": [
  {
   "cell_type": "markdown",
   "id": "a48292b6",
   "metadata": {},
   "source": [
    "# Data Science Tools and Ecosystem"
   ]
  },
  {
   "cell_type": "markdown",
   "id": "bf9fb311",
   "metadata": {},
   "source": [
    "## Introduction\n",
    "In this notebook, we summarize some of the popular tools and techniques used in Data Science."
   ]
  },
  {
   "cell_type": "markdown",
   "id": "149432b6",
   "metadata": {},
   "source": [
    "## Data Science Languages\n",
    "- Python\n",
    "- R\n",
    "- SQL\n",
    "- Julia\n",
    "- Scala"
   ]
  },
  {
   "cell_type": "markdown",
   "id": "296d0503",
   "metadata": {},
   "source": [
    "## Data Science Libraries\n",
    "- Pandas\n",
    "- NumPy\n",
    "- Matplotlib\n",
    "- Scikit-learn\n",
    "- TensorFlow\n",
    "- Keras"
   ]
  },
  {
   "cell_type": "markdown",
   "id": "3acb1683",
   "metadata": {},
   "source": [
    "## Data Science Tools\n",
    "\n",
    "| Tool             | Category      |\n",
    "|------------------|---------------|\n",
    "| Jupyter Notebook | IDE/Notebook  |\n",
    "| RStudio          | IDE           |\n",
    "| Apache Spark     | Big Data      |\n",
    "| TensorFlow       | Deep Learning |"
   ]
  },
  {
   "cell_type": "markdown",
   "id": "f4919636",
   "metadata": {},
   "source": [
    "## Examples of Arithmetic Expressions\n",
    "Below are examples of simple arithmetic expressions."
   ]
  },
  {
   "cell_type": "code",
   "execution_count": null,
   "id": "25e02fe3",
   "metadata": {},
   "outputs": [],
   "source": [
    "# This is a simple arithmetic expression to multiply then add integers\n",
    "(3*4) + 5"
   ]
  },
  {
   "cell_type": "code",
   "execution_count": null,
   "id": "0f887885",
   "metadata": {},
   "outputs": [],
   "source": [
    "# This will convert 200 minutes to hours\n",
    "200 / 60"
   ]
  },
  {
   "cell_type": "markdown",
   "id": "1932a131",
   "metadata": {},
   "source": [
    "## Objectives\n",
    "- List popular languages for Data Science\n",
    "- List commonly used libraries\n",
    "- Demonstrate arithmetic expressions\n",
    "- Convert minutes to hours\n",
    "- Provide author information"
   ]
  },
  {
   "cell_type": "markdown",
   "id": "697a63ed",
   "metadata": {},
   "source": [
    "## Author\n",
    "**Your Name**"
   ]
  }
 ],
 "metadata": {
  "kernelspec": {
   "display_name": "Python 3",
   "name": "python3"
  }
 },
 "nbformat": 4,
 "nbformat_minor": 5
}
