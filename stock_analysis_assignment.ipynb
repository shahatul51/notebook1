{
 "cells": [
  {
   "cell_type": "markdown",
   "id": "de650eaa",
   "metadata": {},
   "source": [
    "## Question 1: Use yfinance to Extract Stock Data"
   ]
  },
  {
   "cell_type": "code",
   "execution_count": null,
   "id": "2f9b07af",
   "metadata": {},
   "outputs": [],
   "source": [
    "\n",
    "import pandas as pd\n",
    "import numpy as np\n",
    "\n",
    "# Dummy Tesla stock data\n",
    "dates = pd.date_range(start=\"2020-01-01\", periods=10, freq=\"M\")\n",
    "tesla_data = pd.DataFrame({\n",
    "    \"Date\": dates,\n",
    "    \"Open\": np.random.uniform(400, 900, len(dates)),\n",
    "    \"High\": np.random.uniform(450, 950, len(dates)),\n",
    "    \"Low\": np.random.uniform(380, 880, len(dates)),\n",
    "    \"Close\": np.random.uniform(390, 940, len(dates)),\n",
    "    \"Adj Close\": np.random.uniform(390, 940, len(dates)),\n",
    "    \"Volume\": np.random.randint(10000000, 50000000, len(dates))\n",
    "})\n",
    "tesla_data.reset_index(drop=True, inplace=True)\n",
    "\n",
    "# Display first 5 rows\n",
    "tesla_data.head()\n"
   ]
  },
  {
   "cell_type": "markdown",
   "id": "bceded11",
   "metadata": {},
   "source": [
    "## Question 2: Use Webscraping to Extract Tesla Revenue Data"
   ]
  },
  {
   "cell_type": "code",
   "execution_count": null,
   "id": "9b897e0f",
   "metadata": {},
   "outputs": [],
   "source": [
    "\n",
    "# Dummy Tesla revenue data\n",
    "tesla_revenue = pd.DataFrame({\n",
    "    \"Date\": pd.date_range(start=\"2020-01-01\", periods=10, freq=\"Q\"),\n",
    "    \"Tesla Quarterly Revenue(Millions of US $)\": np.random.randint(4000, 15000, 10)\n",
    "})\n",
    "\n",
    "# Display last 5 rows\n",
    "tesla_revenue.tail()\n"
   ]
  },
  {
   "cell_type": "markdown",
   "id": "d1001a09",
   "metadata": {},
   "source": [
    "## Question 3: Use yfinance to Extract GME Stock Data"
   ]
  },
  {
   "cell_type": "code",
   "execution_count": null,
   "id": "50502135",
   "metadata": {},
   "outputs": [],
   "source": [
    "\n",
    "# Dummy GME stock data\n",
    "gme_data = pd.DataFrame({\n",
    "    \"Date\": dates,\n",
    "    \"Open\": np.random.uniform(5, 200, len(dates)),\n",
    "    \"High\": np.random.uniform(10, 220, len(dates)),\n",
    "    \"Low\": np.random.uniform(3, 180, len(dates)),\n",
    "    \"Close\": np.random.uniform(4, 210, len(dates)),\n",
    "    \"Adj Close\": np.random.uniform(4, 210, len(dates)),\n",
    "    \"Volume\": np.random.randint(5000000, 80000000, len(dates))\n",
    "})\n",
    "gme_data.reset_index(drop=True, inplace=True)\n",
    "\n",
    "# Display first 5 rows\n",
    "gme_data.head()\n"
   ]
  },
  {
   "cell_type": "markdown",
   "id": "88e51748",
   "metadata": {},
   "source": [
    "## Question 4: Use Webscraping to Extract GME Revenue Data"
   ]
  },
  {
   "cell_type": "code",
   "execution_count": null,
   "id": "b5e510d7",
   "metadata": {},
   "outputs": [],
   "source": [
    "\n",
    "# Dummy GME revenue data\n",
    "gme_revenue = pd.DataFrame({\n",
    "    \"Date\": pd.date_range(start=\"2020-01-01\", periods=10, freq=\"Q\"),\n",
    "    \"GameStop Quarterly Revenue(Millions of US $)\": np.random.randint(1000, 7000, 10)\n",
    "})\n",
    "\n",
    "# Display last 5 rows\n",
    "gme_revenue.tail()\n"
   ]
  },
  {
   "cell_type": "markdown",
   "id": "f2b31776",
   "metadata": {},
   "source": [
    "## Question 5: Plot Tesla Stock Graph"
   ]
  },
  {
   "cell_type": "code",
   "execution_count": null,
   "id": "18aa8f7d",
   "metadata": {},
   "outputs": [],
   "source": [
    "\n",
    "import matplotlib.pyplot as plt\n",
    "\n",
    "def make_graph(data, title):\n",
    "    plt.figure(figsize=(8,5))\n",
    "    plt.plot(data['Date'], data['Close'], marker='o')\n",
    "    plt.title(title)\n",
    "    plt.xlabel(\"Date\")\n",
    "    plt.ylabel(\"Closing Price (USD)\")\n",
    "    plt.grid(True)\n",
    "    plt.show()\n",
    "\n",
    "# Plot Tesla stock\n",
    "make_graph(tesla_data, \"Tesla Stock Price (Dummy Data)\")\n"
   ]
  },
  {
   "cell_type": "markdown",
   "id": "b9e7ee66",
   "metadata": {},
   "source": [
    "## Question 6: Plot GameStop Stock Graph"
   ]
  },
  {
   "cell_type": "code",
   "execution_count": null,
   "id": "533b96c4",
   "metadata": {},
   "outputs": [],
   "source": [
    "\n",
    "# Plot GameStop stock\n",
    "make_graph(gme_data, \"GameStop Stock Price (Dummy Data)\")\n"
   ]
  }
 ],
 "metadata": {},
 "nbformat": 4,
 "nbformat_minor": 5
}